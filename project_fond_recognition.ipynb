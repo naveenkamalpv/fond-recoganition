{
  "nbformat": 4,
  "nbformat_minor": 0,
  "metadata": {
    "colab": {
      "name": "project :fond recognition",
      "provenance": [],
      "collapsed_sections": [],
      "toc_visible": true
    },
    "kernelspec": {
      "name": "python3",
      "display_name": "Python 3"
    }
  },
  "cells": [
    {
      "cell_type": "code",
      "metadata": {
        "id": "xm2lSoe5EUKw",
        "colab_type": "code",
        "outputId": "29b06687-154c-46fc-82c9-090c1b535cb1",
        "colab": {
          "base_uri": "https://localhost:8080/",
          "height": 35
        }
      },
      "source": [
        "from skimage import io\n",
        "from keras.preprocessing import image\n",
        "import matplotlib.pyplot as plt\n"
      ],
      "execution_count": 0,
      "outputs": [
        {
          "output_type": "stream",
          "text": [
            "Using TensorFlow backend.\n"
          ],
          "name": "stderr"
        }
      ]
    },
    {
      "cell_type": "code",
      "metadata": {
        "id": "BoZFXlbmEqYu",
        "colab_type": "code",
        "colab": {}
      },
      "source": [
        "import os\n",
        "import numpy as np"
      ],
      "execution_count": 0,
      "outputs": []
    },
    {
      "cell_type": "code",
      "metadata": {
        "id": "6hnj5_poGu3T",
        "colab_type": "code",
        "outputId": "42ec96fe-1f8a-4620-d9f2-25591c8609d4",
        "colab": {
          "base_uri": "https://localhost:8080/",
          "height": 128
        }
      },
      "source": [
        "# Run this cell to mount your Google Drive.\n",
        "from google.colab import drive\n",
        "drive.mount('/content/drive')"
      ],
      "execution_count": 0,
      "outputs": [
        {
          "output_type": "stream",
          "text": [
            "Go to this URL in a browser: https://accounts.google.com/o/oauth2/auth?client_id=947318989803-6bn6qk8qdgf4n4g3pfee6491hc0brc4i.apps.googleusercontent.com&redirect_uri=urn%3Aietf%3Awg%3Aoauth%3A2.0%3Aoob&scope=email%20https%3A%2F%2Fwww.googleapis.com%2Fauth%2Fdocs.test%20https%3A%2F%2Fwww.googleapis.com%2Fauth%2Fdrive%20https%3A%2F%2Fwww.googleapis.com%2Fauth%2Fdrive.photos.readonly%20https%3A%2F%2Fwww.googleapis.com%2Fauth%2Fpeopleapi.readonly&response_type=code\n",
            "\n",
            "Enter your authorization code:\n",
            "··········\n",
            "Mounted at /content/drive\n"
          ],
          "name": "stdout"
        }
      ]
    },
    {
      "cell_type": "code",
      "metadata": {
        "id": "eFbtaynVGvj4",
        "colab_type": "code",
        "colab": {}
      },
      "source": [
        "def Extract(fontName,istest):\n",
        "  ext=\".png\"\n",
        "  if(istest==1):\n",
        "    ext=os.path.splitext(os.path.basename(fontName))[1]\n",
        "    fontName=os.path.splitext(os.path.basename(fontName))[0]\n",
        "  os.chdir('/content/drive/My Drive/ML PROJECT')\n",
        "  if(istest==0):\n",
        "    if os.path.exists(\"dataset/\"+fontName):\n",
        "      os.rmdir(\"dataset/\"+fontName)\n",
        "    os.makedirs(\"dataset/\"+fontName)   \n",
        "  #img_times = io.imread('TimesNewRoman.PNG', as_gray=True)\n",
        "  if(istest==0):\n",
        "    img_times = io.imread(fontName+ext, as_gray=True)\n",
        "  else:\n",
        "    img_times = io.imread(\"testinput/\"+fontName+ext, as_gray=True)\n",
        "    \n",
        "  start_i=[]\n",
        "  prev_i=1\n",
        "  for i in range(img_times.shape[0]):\n",
        "    u = np.unique(img_times[i]) \n",
        "    if(len(u)>1):\n",
        "      if(prev_i==1):\n",
        "        start_i.append([i,i+1])\n",
        "        prev_i=0\n",
        "      start_i[-1][1]=i\n",
        "    else:\n",
        "      if(len(u)==1):\n",
        "        prev_i=1\n",
        "\n",
        "  cntr=0\n",
        "\n",
        "  sentenses=[]\n",
        "  for i in start_i:    \n",
        "    cropped = img_times[i[0]:i[1],:img_times.shape[1]]\n",
        "    io.imsave(\"temp/\"+fontName+\"_\"+str(i[0])+\".png\",cropped)\n",
        "    sentenses.append(cropped)\n",
        "    #plt.imshow(cropped)\n",
        "    #plt.show()\n",
        "\n",
        "  \n",
        "  start_j=[]\n",
        "  prev_i=1\n",
        "  cntr=-1\n",
        "\n",
        "  for lines in sentenses:\n",
        "    #plt.imshow(lines)\n",
        "    #plt.show()\n",
        "    whitecntr=0\n",
        "    cntr+=1\n",
        "    out_arr = np.asarray(lines)\n",
        "    for j in range(lines.shape[1]):\n",
        "      slices=out_arr[:,j]\n",
        "      u = np.unique(slices)\n",
        "      #print(u)\n",
        "      if(len(u)>1):\n",
        "        if(prev_i==1):\n",
        "          start_j.append([cntr,j,j+1])       \n",
        "          prev_i=0\n",
        "\n",
        "        if(start_j[-1][2]<j):        \n",
        "          start_j[-1][2]=j\n",
        "      else:\n",
        "        if(len(u)==1):\n",
        "          prev_i=1\n",
        "  i=0;\n",
        "  \n",
        "  i=0\n",
        "  prevline=0\n",
        "  for chrtr in start_j:\n",
        "    if(prevline!=chrtr[0]):\n",
        "      i=0\n",
        "      prevline=chrtr[0]\n",
        "    cropped=sentenses[chrtr[0]][:,chrtr[1]-2:chrtr[2]+2]\n",
        "    #plt.imshow(cropped)\n",
        "    #plt.show()  \n",
        "    if(istest==0):\n",
        "      io.imsave(\"dataset/\"+fontName+\"/\"+str(chrtr[0])+\"_\"+str(i)+\".png\",cropped)\n",
        "    else:\n",
        "      io.imsave(\"testset/\"+fontName+\"_\"+str(chrtr[0])+\"_\"+str(i)+\".png\",cropped)\n",
        "    #sentenses.append(cropped)\n",
        "    i+=1\n",
        "   "
      ],
      "execution_count": 0,
      "outputs": []
    },
    {
      "cell_type": "code",
      "metadata": {
        "id": "kdeteTNcf0cW",
        "colab_type": "code",
        "outputId": "fc47b756-a9ff-4276-d66d-49fce9b57b83",
        "colab": {
          "base_uri": "https://localhost:8080/",
          "height": 1000
        }
      },
      "source": [
        "Extract('TimesNewRoman',0)\n",
        "Extract('CooperBlack',0)\n"
      ],
      "execution_count": 0,
      "outputs": [
        {
          "output_type": "stream",
          "text": [
            "WARNING: Logging before flag parsing goes to stderr.\n",
            "W0705 23:48:52.548996 140426626672512 util.py:61] Lossy conversion from float64 to uint8. Range [0, 1]. Convert image to uint8 prior to saving to suppress this warning.\n",
            "W0705 23:48:52.585097 140426626672512 util.py:61] Lossy conversion from float64 to uint8. Range [0, 1]. Convert image to uint8 prior to saving to suppress this warning.\n",
            "W0705 23:48:52.616591 140426626672512 util.py:61] Lossy conversion from float64 to uint8. Range [0, 1]. Convert image to uint8 prior to saving to suppress this warning.\n",
            "W0705 23:48:52.670127 140426626672512 util.py:61] Lossy conversion from float64 to uint8. Range [0, 1]. Convert image to uint8 prior to saving to suppress this warning.\n",
            "W0705 23:48:52.679836 140426626672512 util.py:61] Lossy conversion from float64 to uint8. Range [0, 1]. Convert image to uint8 prior to saving to suppress this warning.\n",
            "W0705 23:48:52.688325 140426626672512 util.py:61] Lossy conversion from float64 to uint8. Range [0, 1]. Convert image to uint8 prior to saving to suppress this warning.\n",
            "W0705 23:48:52.696698 140426626672512 util.py:61] Lossy conversion from float64 to uint8. Range [0, 1]. Convert image to uint8 prior to saving to suppress this warning.\n",
            "W0705 23:48:52.704318 140426626672512 util.py:61] Lossy conversion from float64 to uint8. Range [0, 1]. Convert image to uint8 prior to saving to suppress this warning.\n",
            "W0705 23:48:52.712145 140426626672512 util.py:61] Lossy conversion from float64 to uint8. Range [0, 1]. Convert image to uint8 prior to saving to suppress this warning.\n",
            "W0705 23:48:52.719827 140426626672512 util.py:61] Lossy conversion from float64 to uint8. Range [0, 1]. Convert image to uint8 prior to saving to suppress this warning.\n",
            "W0705 23:48:52.727420 140426626672512 util.py:61] Lossy conversion from float64 to uint8. Range [0, 1]. Convert image to uint8 prior to saving to suppress this warning.\n",
            "W0705 23:48:52.735031 140426626672512 util.py:61] Lossy conversion from float64 to uint8. Range [0, 1]. Convert image to uint8 prior to saving to suppress this warning.\n",
            "W0705 23:48:52.744118 140426626672512 util.py:61] Lossy conversion from float64 to uint8. Range [0, 1]. Convert image to uint8 prior to saving to suppress this warning.\n",
            "W0705 23:48:52.753010 140426626672512 util.py:61] Lossy conversion from float64 to uint8. Range [0, 1]. Convert image to uint8 prior to saving to suppress this warning.\n",
            "W0705 23:48:52.761813 140426626672512 util.py:61] Lossy conversion from float64 to uint8. Range [0, 1]. Convert image to uint8 prior to saving to suppress this warning.\n",
            "W0705 23:48:52.770375 140426626672512 util.py:61] Lossy conversion from float64 to uint8. Range [0, 1]. Convert image to uint8 prior to saving to suppress this warning.\n",
            "W0705 23:48:52.778420 140426626672512 util.py:61] Lossy conversion from float64 to uint8. Range [0, 1]. Convert image to uint8 prior to saving to suppress this warning.\n",
            "W0705 23:48:52.786457 140426626672512 util.py:61] Lossy conversion from float64 to uint8. Range [0, 1]. Convert image to uint8 prior to saving to suppress this warning.\n",
            "W0705 23:48:52.793331 140426626672512 util.py:61] Lossy conversion from float64 to uint8. Range [0, 1]. Convert image to uint8 prior to saving to suppress this warning.\n",
            "W0705 23:48:52.801934 140426626672512 util.py:61] Lossy conversion from float64 to uint8. Range [0, 1]. Convert image to uint8 prior to saving to suppress this warning.\n",
            "W0705 23:48:52.811944 140426626672512 util.py:61] Lossy conversion from float64 to uint8. Range [0, 1]. Convert image to uint8 prior to saving to suppress this warning.\n",
            "W0705 23:48:52.820220 140426626672512 util.py:61] Lossy conversion from float64 to uint8. Range [0, 1]. Convert image to uint8 prior to saving to suppress this warning.\n",
            "W0705 23:48:52.828931 140426626672512 util.py:61] Lossy conversion from float64 to uint8. Range [0, 1]. Convert image to uint8 prior to saving to suppress this warning.\n",
            "W0705 23:48:52.838407 140426626672512 util.py:61] Lossy conversion from float64 to uint8. Range [0, 1]. Convert image to uint8 prior to saving to suppress this warning.\n",
            "W0705 23:48:52.847120 140426626672512 util.py:61] Lossy conversion from float64 to uint8. Range [0, 1]. Convert image to uint8 prior to saving to suppress this warning.\n",
            "W0705 23:48:52.855494 140426626672512 util.py:61] Lossy conversion from float64 to uint8. Range [0, 1]. Convert image to uint8 prior to saving to suppress this warning.\n",
            "W0705 23:48:52.864143 140426626672512 util.py:61] Lossy conversion from float64 to uint8. Range [0, 1]. Convert image to uint8 prior to saving to suppress this warning.\n",
            "W0705 23:48:52.873807 140426626672512 util.py:61] Lossy conversion from float64 to uint8. Range [0, 1]. Convert image to uint8 prior to saving to suppress this warning.\n",
            "W0705 23:48:52.891170 140426626672512 util.py:61] Lossy conversion from float64 to uint8. Range [0, 1]. Convert image to uint8 prior to saving to suppress this warning.\n",
            "W0705 23:48:52.900250 140426626672512 util.py:61] Lossy conversion from float64 to uint8. Range [0, 1]. Convert image to uint8 prior to saving to suppress this warning.\n",
            "W0705 23:48:52.909073 140426626672512 util.py:61] Lossy conversion from float64 to uint8. Range [0, 1]. Convert image to uint8 prior to saving to suppress this warning.\n",
            "W0705 23:48:52.917807 140426626672512 util.py:61] Lossy conversion from float64 to uint8. Range [0, 1]. Convert image to uint8 prior to saving to suppress this warning.\n",
            "W0705 23:48:52.926237 140426626672512 util.py:61] Lossy conversion from float64 to uint8. Range [0, 1]. Convert image to uint8 prior to saving to suppress this warning.\n",
            "W0705 23:48:52.933814 140426626672512 util.py:61] Lossy conversion from float64 to uint8. Range [0, 1]. Convert image to uint8 prior to saving to suppress this warning.\n",
            "W0705 23:48:52.942255 140426626672512 util.py:61] Lossy conversion from float64 to uint8. Range [0, 1]. Convert image to uint8 prior to saving to suppress this warning.\n",
            "W0705 23:48:52.950881 140426626672512 util.py:61] Lossy conversion from float64 to uint8. Range [0, 1]. Convert image to uint8 prior to saving to suppress this warning.\n",
            "W0705 23:48:52.959137 140426626672512 util.py:61] Lossy conversion from float64 to uint8. Range [0, 1]. Convert image to uint8 prior to saving to suppress this warning.\n",
            "W0705 23:48:52.967353 140426626672512 util.py:61] Lossy conversion from float64 to uint8. Range [0, 1]. Convert image to uint8 prior to saving to suppress this warning.\n",
            "W0705 23:48:52.974835 140426626672512 util.py:61] Lossy conversion from float64 to uint8. Range [0, 1]. Convert image to uint8 prior to saving to suppress this warning.\n",
            "W0705 23:48:52.982730 140426626672512 util.py:61] Lossy conversion from float64 to uint8. Range [0, 1]. Convert image to uint8 prior to saving to suppress this warning.\n",
            "W0705 23:48:52.990710 140426626672512 util.py:61] Lossy conversion from float64 to uint8. Range [0, 1]. Convert image to uint8 prior to saving to suppress this warning.\n",
            "W0705 23:48:52.998218 140426626672512 util.py:61] Lossy conversion from float64 to uint8. Range [0, 1]. Convert image to uint8 prior to saving to suppress this warning.\n",
            "W0705 23:48:53.005356 140426626672512 util.py:61] Lossy conversion from float64 to uint8. Range [0, 1]. Convert image to uint8 prior to saving to suppress this warning.\n",
            "W0705 23:48:53.017195 140426626672512 util.py:61] Lossy conversion from float64 to uint8. Range [0, 1]. Convert image to uint8 prior to saving to suppress this warning.\n",
            "W0705 23:48:53.025308 140426626672512 util.py:61] Lossy conversion from float64 to uint8. Range [0, 1]. Convert image to uint8 prior to saving to suppress this warning.\n",
            "W0705 23:48:53.034969 140426626672512 util.py:61] Lossy conversion from float64 to uint8. Range [0, 1]. Convert image to uint8 prior to saving to suppress this warning.\n",
            "W0705 23:48:53.042865 140426626672512 util.py:61] Lossy conversion from float64 to uint8. Range [0, 1]. Convert image to uint8 prior to saving to suppress this warning.\n",
            "W0705 23:48:53.051968 140426626672512 util.py:61] Lossy conversion from float64 to uint8. Range [0, 1]. Convert image to uint8 prior to saving to suppress this warning.\n",
            "W0705 23:48:53.060560 140426626672512 util.py:61] Lossy conversion from float64 to uint8. Range [0, 1]. Convert image to uint8 prior to saving to suppress this warning.\n",
            "W0705 23:48:53.069517 140426626672512 util.py:61] Lossy conversion from float64 to uint8. Range [0, 1]. Convert image to uint8 prior to saving to suppress this warning.\n",
            "W0705 23:48:53.077116 140426626672512 util.py:61] Lossy conversion from float64 to uint8. Range [0, 1]. Convert image to uint8 prior to saving to suppress this warning.\n",
            "W0705 23:48:53.085948 140426626672512 util.py:61] Lossy conversion from float64 to uint8. Range [0, 1]. Convert image to uint8 prior to saving to suppress this warning.\n",
            "W0705 23:48:53.093891 140426626672512 util.py:61] Lossy conversion from float64 to uint8. Range [0, 1]. Convert image to uint8 prior to saving to suppress this warning.\n",
            "W0705 23:48:53.102253 140426626672512 util.py:61] Lossy conversion from float64 to uint8. Range [0, 1]. Convert image to uint8 prior to saving to suppress this warning.\n",
            "W0705 23:48:53.109545 140426626672512 util.py:61] Lossy conversion from float64 to uint8. Range [0, 1]. Convert image to uint8 prior to saving to suppress this warning.\n",
            "W0705 23:48:53.119860 140426626672512 util.py:61] Lossy conversion from float64 to uint8. Range [0, 1]. Convert image to uint8 prior to saving to suppress this warning.\n",
            "W0705 23:48:53.135737 140426626672512 util.py:61] Lossy conversion from float64 to uint8. Range [0, 1]. Convert image to uint8 prior to saving to suppress this warning.\n",
            "W0705 23:48:53.143473 140426626672512 util.py:61] Lossy conversion from float64 to uint8. Range [0, 1]. Convert image to uint8 prior to saving to suppress this warning.\n",
            "W0705 23:48:53.152465 140426626672512 util.py:61] Lossy conversion from float64 to uint8. Range [0, 1]. Convert image to uint8 prior to saving to suppress this warning.\n",
            "W0705 23:48:53.162563 140426626672512 util.py:61] Lossy conversion from float64 to uint8. Range [0, 1]. Convert image to uint8 prior to saving to suppress this warning.\n",
            "W0705 23:48:53.171511 140426626672512 util.py:61] Lossy conversion from float64 to uint8. Range [0, 1]. Convert image to uint8 prior to saving to suppress this warning.\n",
            "W0705 23:48:53.179906 140426626672512 util.py:61] Lossy conversion from float64 to uint8. Range [0, 1]. Convert image to uint8 prior to saving to suppress this warning.\n",
            "W0705 23:48:53.188829 140426626672512 util.py:61] Lossy conversion from float64 to uint8. Range [0, 1]. Convert image to uint8 prior to saving to suppress this warning.\n",
            "W0705 23:48:53.197865 140426626672512 util.py:61] Lossy conversion from float64 to uint8. Range [0, 1]. Convert image to uint8 prior to saving to suppress this warning.\n",
            "W0705 23:48:53.206210 140426626672512 util.py:61] Lossy conversion from float64 to uint8. Range [0, 1]. Convert image to uint8 prior to saving to suppress this warning.\n",
            "W0705 23:48:53.216960 140426626672512 util.py:61] Lossy conversion from float64 to uint8. Range [0, 1]. Convert image to uint8 prior to saving to suppress this warning.\n",
            "W0705 23:48:53.224956 140426626672512 util.py:61] Lossy conversion from float64 to uint8. Range [0, 1]. Convert image to uint8 prior to saving to suppress this warning.\n",
            "W0705 23:48:53.600874 140426626672512 util.py:61] Lossy conversion from float64 to uint8. Range [0, 1]. Convert image to uint8 prior to saving to suppress this warning.\n",
            "W0705 23:48:53.643609 140426626672512 util.py:61] Lossy conversion from float64 to uint8. Range [0, 1]. Convert image to uint8 prior to saving to suppress this warning.\n",
            "W0705 23:48:53.658343 140426626672512 util.py:61] Lossy conversion from float64 to uint8. Range [0, 1]. Convert image to uint8 prior to saving to suppress this warning.\n",
            "W0705 23:48:53.693681 140426626672512 util.py:61] Lossy conversion from float64 to uint8. Range [0, 1]. Convert image to uint8 prior to saving to suppress this warning.\n",
            "W0705 23:48:53.767555 140426626672512 util.py:61] Lossy conversion from float64 to uint8. Range [0, 1]. Convert image to uint8 prior to saving to suppress this warning.\n",
            "W0705 23:48:53.778032 140426626672512 util.py:61] Lossy conversion from float64 to uint8. Range [0, 1]. Convert image to uint8 prior to saving to suppress this warning.\n",
            "W0705 23:48:53.786598 140426626672512 util.py:61] Lossy conversion from float64 to uint8. Range [0, 1]. Convert image to uint8 prior to saving to suppress this warning.\n",
            "W0705 23:48:53.795375 140426626672512 util.py:61] Lossy conversion from float64 to uint8. Range [0, 1]. Convert image to uint8 prior to saving to suppress this warning.\n",
            "W0705 23:48:53.804319 140426626672512 util.py:61] Lossy conversion from float64 to uint8. Range [0, 1]. Convert image to uint8 prior to saving to suppress this warning.\n",
            "W0705 23:48:53.812834 140426626672512 util.py:61] Lossy conversion from float64 to uint8. Range [0, 1]. Convert image to uint8 prior to saving to suppress this warning.\n",
            "W0705 23:48:53.821633 140426626672512 util.py:61] Lossy conversion from float64 to uint8. Range [0, 1]. Convert image to uint8 prior to saving to suppress this warning.\n",
            "W0705 23:48:53.829703 140426626672512 util.py:61] Lossy conversion from float64 to uint8. Range [0, 1]. Convert image to uint8 prior to saving to suppress this warning.\n",
            "W0705 23:48:53.837845 140426626672512 util.py:61] Lossy conversion from float64 to uint8. Range [0, 1]. Convert image to uint8 prior to saving to suppress this warning.\n",
            "W0705 23:48:53.849772 140426626672512 util.py:61] Lossy conversion from float64 to uint8. Range [0, 1]. Convert image to uint8 prior to saving to suppress this warning.\n",
            "W0705 23:48:53.858056 140426626672512 util.py:61] Lossy conversion from float64 to uint8. Range [0, 1]. Convert image to uint8 prior to saving to suppress this warning.\n",
            "W0705 23:48:53.866671 140426626672512 util.py:61] Lossy conversion from float64 to uint8. Range [0, 1]. Convert image to uint8 prior to saving to suppress this warning.\n",
            "W0705 23:48:53.873707 140426626672512 util.py:61] Lossy conversion from float64 to uint8. Range [0, 1]. Convert image to uint8 prior to saving to suppress this warning.\n",
            "W0705 23:48:53.881739 140426626672512 util.py:61] Lossy conversion from float64 to uint8. Range [0, 1]. Convert image to uint8 prior to saving to suppress this warning.\n",
            "W0705 23:48:53.889165 140426626672512 util.py:61] Lossy conversion from float64 to uint8. Range [0, 1]. Convert image to uint8 prior to saving to suppress this warning.\n",
            "W0705 23:48:53.896927 140426626672512 util.py:61] Lossy conversion from float64 to uint8. Range [0, 1]. Convert image to uint8 prior to saving to suppress this warning.\n",
            "W0705 23:48:53.905289 140426626672512 util.py:61] Lossy conversion from float64 to uint8. Range [0, 1]. Convert image to uint8 prior to saving to suppress this warning.\n",
            "W0705 23:48:53.913453 140426626672512 util.py:61] Lossy conversion from float64 to uint8. Range [0, 1]. Convert image to uint8 prior to saving to suppress this warning.\n",
            "W0705 23:48:53.921369 140426626672512 util.py:61] Lossy conversion from float64 to uint8. Range [0, 1]. Convert image to uint8 prior to saving to suppress this warning.\n",
            "W0705 23:48:53.929642 140426626672512 util.py:61] Lossy conversion from float64 to uint8. Range [0, 1]. Convert image to uint8 prior to saving to suppress this warning.\n",
            "W0705 23:48:53.937737 140426626672512 util.py:61] Lossy conversion from float64 to uint8. Range [0, 1]. Convert image to uint8 prior to saving to suppress this warning.\n",
            "W0705 23:48:53.945902 140426626672512 util.py:61] Lossy conversion from float64 to uint8. Range [0, 1]. Convert image to uint8 prior to saving to suppress this warning.\n",
            "W0705 23:48:53.953741 140426626672512 util.py:61] Lossy conversion from float64 to uint8. Range [0, 1]. Convert image to uint8 prior to saving to suppress this warning.\n",
            "W0705 23:48:53.962299 140426626672512 util.py:61] Lossy conversion from float64 to uint8. Range [0, 1]. Convert image to uint8 prior to saving to suppress this warning.\n",
            "W0705 23:48:53.970005 140426626672512 util.py:61] Lossy conversion from float64 to uint8. Range [0, 1]. Convert image to uint8 prior to saving to suppress this warning.\n",
            "W0705 23:48:53.977947 140426626672512 util.py:61] Lossy conversion from float64 to uint8. Range [0, 1]. Convert image to uint8 prior to saving to suppress this warning.\n",
            "W0705 23:48:53.986972 140426626672512 util.py:61] Lossy conversion from float64 to uint8. Range [0, 1]. Convert image to uint8 prior to saving to suppress this warning.\n",
            "W0705 23:48:53.997958 140426626672512 util.py:61] Lossy conversion from float64 to uint8. Range [0, 1]. Convert image to uint8 prior to saving to suppress this warning.\n",
            "W0705 23:48:54.006078 140426626672512 util.py:61] Lossy conversion from float64 to uint8. Range [0, 1]. Convert image to uint8 prior to saving to suppress this warning.\n",
            "W0705 23:48:54.013941 140426626672512 util.py:61] Lossy conversion from float64 to uint8. Range [0, 1]. Convert image to uint8 prior to saving to suppress this warning.\n",
            "W0705 23:48:54.026264 140426626672512 util.py:61] Lossy conversion from float64 to uint8. Range [0, 1]. Convert image to uint8 prior to saving to suppress this warning.\n",
            "W0705 23:48:54.035431 140426626672512 util.py:61] Lossy conversion from float64 to uint8. Range [0, 1]. Convert image to uint8 prior to saving to suppress this warning.\n",
            "W0705 23:48:54.043453 140426626672512 util.py:61] Lossy conversion from float64 to uint8. Range [0, 1]. Convert image to uint8 prior to saving to suppress this warning.\n",
            "W0705 23:48:54.051840 140426626672512 util.py:61] Lossy conversion from float64 to uint8. Range [0, 1]. Convert image to uint8 prior to saving to suppress this warning.\n",
            "W0705 23:48:54.059519 140426626672512 util.py:61] Lossy conversion from float64 to uint8. Range [0, 1]. Convert image to uint8 prior to saving to suppress this warning.\n",
            "W0705 23:48:54.070054 140426626672512 util.py:61] Lossy conversion from float64 to uint8. Range [0, 1]. Convert image to uint8 prior to saving to suppress this warning.\n",
            "W0705 23:48:54.078014 140426626672512 util.py:61] Lossy conversion from float64 to uint8. Range [0, 1]. Convert image to uint8 prior to saving to suppress this warning.\n",
            "W0705 23:48:54.086382 140426626672512 util.py:61] Lossy conversion from float64 to uint8. Range [0, 1]. Convert image to uint8 prior to saving to suppress this warning.\n",
            "W0705 23:48:54.093981 140426626672512 util.py:61] Lossy conversion from float64 to uint8. Range [0, 1]. Convert image to uint8 prior to saving to suppress this warning.\n",
            "W0705 23:48:54.102626 140426626672512 util.py:61] Lossy conversion from float64 to uint8. Range [0, 1]. Convert image to uint8 prior to saving to suppress this warning.\n",
            "W0705 23:48:54.110863 140426626672512 util.py:61] Lossy conversion from float64 to uint8. Range [0, 1]. Convert image to uint8 prior to saving to suppress this warning.\n",
            "W0705 23:48:54.125956 140426626672512 util.py:61] Lossy conversion from float64 to uint8. Range [0, 1]. Convert image to uint8 prior to saving to suppress this warning.\n",
            "W0705 23:48:54.134323 140426626672512 util.py:61] Lossy conversion from float64 to uint8. Range [0, 1]. Convert image to uint8 prior to saving to suppress this warning.\n",
            "W0705 23:48:54.143253 140426626672512 util.py:61] Lossy conversion from float64 to uint8. Range [0, 1]. Convert image to uint8 prior to saving to suppress this warning.\n",
            "W0705 23:48:54.157086 140426626672512 util.py:61] Lossy conversion from float64 to uint8. Range [0, 1]. Convert image to uint8 prior to saving to suppress this warning.\n",
            "W0705 23:48:54.165580 140426626672512 util.py:61] Lossy conversion from float64 to uint8. Range [0, 1]. Convert image to uint8 prior to saving to suppress this warning.\n",
            "W0705 23:48:54.173327 140426626672512 util.py:61] Lossy conversion from float64 to uint8. Range [0, 1]. Convert image to uint8 prior to saving to suppress this warning.\n",
            "W0705 23:48:54.182160 140426626672512 util.py:61] Lossy conversion from float64 to uint8. Range [0, 1]. Convert image to uint8 prior to saving to suppress this warning.\n",
            "W0705 23:48:54.190602 140426626672512 util.py:61] Lossy conversion from float64 to uint8. Range [0, 1]. Convert image to uint8 prior to saving to suppress this warning.\n",
            "W0705 23:48:54.202296 140426626672512 util.py:61] Lossy conversion from float64 to uint8. Range [0, 1]. Convert image to uint8 prior to saving to suppress this warning.\n",
            "W0705 23:48:54.209757 140426626672512 util.py:61] Lossy conversion from float64 to uint8. Range [0, 1]. Convert image to uint8 prior to saving to suppress this warning.\n",
            "W0705 23:48:54.218681 140426626672512 util.py:61] Lossy conversion from float64 to uint8. Range [0, 1]. Convert image to uint8 prior to saving to suppress this warning.\n",
            "W0705 23:48:54.226607 140426626672512 util.py:61] Lossy conversion from float64 to uint8. Range [0, 1]. Convert image to uint8 prior to saving to suppress this warning.\n",
            "W0705 23:48:54.237248 140426626672512 util.py:61] Lossy conversion from float64 to uint8. Range [0, 1]. Convert image to uint8 prior to saving to suppress this warning.\n",
            "W0705 23:48:54.245513 140426626672512 util.py:61] Lossy conversion from float64 to uint8. Range [0, 1]. Convert image to uint8 prior to saving to suppress this warning.\n",
            "W0705 23:48:54.259177 140426626672512 util.py:61] Lossy conversion from float64 to uint8. Range [0, 1]. Convert image to uint8 prior to saving to suppress this warning.\n",
            "W0705 23:48:54.266508 140426626672512 util.py:61] Lossy conversion from float64 to uint8. Range [0, 1]. Convert image to uint8 prior to saving to suppress this warning.\n",
            "W0705 23:48:54.274985 140426626672512 util.py:61] Lossy conversion from float64 to uint8. Range [0, 1]. Convert image to uint8 prior to saving to suppress this warning.\n",
            "W0705 23:48:54.282182 140426626672512 util.py:61] Lossy conversion from float64 to uint8. Range [0, 1]. Convert image to uint8 prior to saving to suppress this warning.\n",
            "W0705 23:48:54.290443 140426626672512 util.py:61] Lossy conversion from float64 to uint8. Range [0, 1]. Convert image to uint8 prior to saving to suppress this warning.\n",
            "W0705 23:48:54.299201 140426626672512 util.py:61] Lossy conversion from float64 to uint8. Range [0, 1]. Convert image to uint8 prior to saving to suppress this warning.\n",
            "W0705 23:48:54.309200 140426626672512 util.py:61] Lossy conversion from float64 to uint8. Range [0, 1]. Convert image to uint8 prior to saving to suppress this warning.\n"
          ],
          "name": "stderr"
        }
      ]
    },
    {
      "cell_type": "code",
      "metadata": {
        "id": "ew_I6kAmf80V",
        "colab_type": "code",
        "outputId": "d07a56b1-eb2d-4960-b0af-7fc0c9ed085f",
        "colab": {
          "base_uri": "https://localhost:8080/",
          "height": 1000
        }
      },
      "source": [
        "! rm -rf testset/*\n",
        "Extract('testnew.PNG',1)"
      ],
      "execution_count": 0,
      "outputs": [
        {
          "output_type": "stream",
          "text": [
            "W0706 00:32:20.768103 140426626672512 util.py:61] Lossy conversion from float64 to uint8. Range [0, 1]. Convert image to uint8 prior to saving to suppress this warning.\n",
            "W0706 00:32:20.805040 140426626672512 util.py:61] Lossy conversion from float64 to uint8. Range [0, 1]. Convert image to uint8 prior to saving to suppress this warning.\n",
            "W0706 00:32:20.863382 140426626672512 util.py:61] Lossy conversion from float64 to uint8. Range [0, 1]. Convert image to uint8 prior to saving to suppress this warning.\n",
            "W0706 00:32:20.872975 140426626672512 util.py:61] Lossy conversion from float64 to uint8. Range [0, 1]. Convert image to uint8 prior to saving to suppress this warning.\n",
            "W0706 00:32:20.881186 140426626672512 util.py:61] Lossy conversion from float64 to uint8. Range [0, 1]. Convert image to uint8 prior to saving to suppress this warning.\n",
            "W0706 00:32:20.889234 140426626672512 util.py:61] Lossy conversion from float64 to uint8. Range [0, 1]. Convert image to uint8 prior to saving to suppress this warning.\n",
            "W0706 00:32:20.896997 140426626672512 util.py:61] Lossy conversion from float64 to uint8. Range [0, 1]. Convert image to uint8 prior to saving to suppress this warning.\n",
            "W0706 00:32:20.904847 140426626672512 util.py:61] Lossy conversion from float64 to uint8. Range [0, 1]. Convert image to uint8 prior to saving to suppress this warning.\n",
            "W0706 00:32:20.912590 140426626672512 util.py:61] Lossy conversion from float64 to uint8. Range [0, 1]. Convert image to uint8 prior to saving to suppress this warning.\n",
            "W0706 00:32:20.920571 140426626672512 util.py:61] Lossy conversion from float64 to uint8. Range [0, 1]. Convert image to uint8 prior to saving to suppress this warning.\n",
            "W0706 00:32:20.928201 140426626672512 util.py:61] Lossy conversion from float64 to uint8. Range [0, 1]. Convert image to uint8 prior to saving to suppress this warning.\n",
            "W0706 00:32:20.935919 140426626672512 util.py:61] Lossy conversion from float64 to uint8. Range [0, 1]. Convert image to uint8 prior to saving to suppress this warning.\n",
            "W0706 00:32:20.943505 140426626672512 util.py:61] Lossy conversion from float64 to uint8. Range [0, 1]. Convert image to uint8 prior to saving to suppress this warning.\n",
            "W0706 00:32:20.950954 140426626672512 util.py:61] Lossy conversion from float64 to uint8. Range [0, 1]. Convert image to uint8 prior to saving to suppress this warning.\n",
            "W0706 00:32:20.958439 140426626672512 util.py:61] Lossy conversion from float64 to uint8. Range [0, 1]. Convert image to uint8 prior to saving to suppress this warning.\n",
            "W0706 00:32:20.966076 140426626672512 util.py:61] Lossy conversion from float64 to uint8. Range [0, 1]. Convert image to uint8 prior to saving to suppress this warning.\n",
            "W0706 00:32:20.973773 140426626672512 util.py:61] Lossy conversion from float64 to uint8. Range [0, 1]. Convert image to uint8 prior to saving to suppress this warning.\n",
            "W0706 00:32:20.981894 140426626672512 util.py:61] Lossy conversion from float64 to uint8. Range [0, 1]. Convert image to uint8 prior to saving to suppress this warning.\n",
            "W0706 00:32:20.989040 140426626672512 util.py:61] Lossy conversion from float64 to uint8. Range [0, 1]. Convert image to uint8 prior to saving to suppress this warning.\n",
            "W0706 00:32:20.996984 140426626672512 util.py:61] Lossy conversion from float64 to uint8. Range [0, 1]. Convert image to uint8 prior to saving to suppress this warning.\n",
            "W0706 00:32:21.004572 140426626672512 util.py:61] Lossy conversion from float64 to uint8. Range [0, 1]. Convert image to uint8 prior to saving to suppress this warning.\n",
            "W0706 00:32:21.012537 140426626672512 util.py:61] Lossy conversion from float64 to uint8. Range [0, 1]. Convert image to uint8 prior to saving to suppress this warning.\n",
            "W0706 00:32:21.020107 140426626672512 util.py:61] Lossy conversion from float64 to uint8. Range [0, 1]. Convert image to uint8 prior to saving to suppress this warning.\n",
            "W0706 00:32:21.035189 140426626672512 util.py:61] Lossy conversion from float64 to uint8. Range [0, 1]. Convert image to uint8 prior to saving to suppress this warning.\n",
            "W0706 00:32:21.043852 140426626672512 util.py:61] Lossy conversion from float64 to uint8. Range [0, 1]. Convert image to uint8 prior to saving to suppress this warning.\n",
            "W0706 00:32:21.052048 140426626672512 util.py:61] Lossy conversion from float64 to uint8. Range [0, 1]. Convert image to uint8 prior to saving to suppress this warning.\n",
            "W0706 00:32:21.059679 140426626672512 util.py:61] Lossy conversion from float64 to uint8. Range [0, 1]. Convert image to uint8 prior to saving to suppress this warning.\n",
            "W0706 00:32:21.068036 140426626672512 util.py:61] Lossy conversion from float64 to uint8. Range [0, 1]. Convert image to uint8 prior to saving to suppress this warning.\n",
            "W0706 00:32:21.076067 140426626672512 util.py:61] Lossy conversion from float64 to uint8. Range [0, 1]. Convert image to uint8 prior to saving to suppress this warning.\n",
            "W0706 00:32:21.083866 140426626672512 util.py:61] Lossy conversion from float64 to uint8. Range [0, 1]. Convert image to uint8 prior to saving to suppress this warning.\n",
            "W0706 00:32:21.091156 140426626672512 util.py:61] Lossy conversion from float64 to uint8. Range [0, 1]. Convert image to uint8 prior to saving to suppress this warning.\n",
            "W0706 00:32:21.100221 140426626672512 util.py:61] Lossy conversion from float64 to uint8. Range [0, 1]. Convert image to uint8 prior to saving to suppress this warning.\n",
            "W0706 00:32:21.109679 140426626672512 util.py:61] Lossy conversion from float64 to uint8. Range [0, 1]. Convert image to uint8 prior to saving to suppress this warning.\n",
            "W0706 00:32:21.117676 140426626672512 util.py:61] Lossy conversion from float64 to uint8. Range [0, 1]. Convert image to uint8 prior to saving to suppress this warning.\n",
            "W0706 00:32:21.125500 140426626672512 util.py:61] Lossy conversion from float64 to uint8. Range [0, 1]. Convert image to uint8 prior to saving to suppress this warning.\n",
            "W0706 00:32:21.134169 140426626672512 util.py:61] Lossy conversion from float64 to uint8. Range [0, 1]. Convert image to uint8 prior to saving to suppress this warning.\n",
            "W0706 00:32:21.141921 140426626672512 util.py:61] Lossy conversion from float64 to uint8. Range [0, 1]. Convert image to uint8 prior to saving to suppress this warning.\n",
            "W0706 00:32:21.149752 140426626672512 util.py:61] Lossy conversion from float64 to uint8. Range [0, 1]. Convert image to uint8 prior to saving to suppress this warning.\n",
            "W0706 00:32:21.158532 140426626672512 util.py:61] Lossy conversion from float64 to uint8. Range [0, 1]. Convert image to uint8 prior to saving to suppress this warning.\n",
            "W0706 00:32:21.169604 140426626672512 util.py:61] Lossy conversion from float64 to uint8. Range [0, 1]. Convert image to uint8 prior to saving to suppress this warning.\n",
            "W0706 00:32:21.177563 140426626672512 util.py:61] Lossy conversion from float64 to uint8. Range [0, 1]. Convert image to uint8 prior to saving to suppress this warning.\n",
            "W0706 00:32:21.185723 140426626672512 util.py:61] Lossy conversion from float64 to uint8. Range [0, 1]. Convert image to uint8 prior to saving to suppress this warning.\n",
            "W0706 00:32:21.193775 140426626672512 util.py:61] Lossy conversion from float64 to uint8. Range [0, 1]. Convert image to uint8 prior to saving to suppress this warning.\n",
            "W0706 00:32:21.213921 140426626672512 util.py:61] Lossy conversion from float64 to uint8. Range [0, 1]. Convert image to uint8 prior to saving to suppress this warning.\n",
            "W0706 00:32:21.225343 140426626672512 util.py:61] Lossy conversion from float64 to uint8. Range [0, 1]. Convert image to uint8 prior to saving to suppress this warning.\n",
            "W0706 00:32:21.234368 140426626672512 util.py:61] Lossy conversion from float64 to uint8. Range [0, 1]. Convert image to uint8 prior to saving to suppress this warning.\n",
            "W0706 00:32:21.243956 140426626672512 util.py:61] Lossy conversion from float64 to uint8. Range [0, 1]. Convert image to uint8 prior to saving to suppress this warning.\n",
            "W0706 00:32:21.259249 140426626672512 util.py:61] Lossy conversion from float64 to uint8. Range [0, 1]. Convert image to uint8 prior to saving to suppress this warning.\n",
            "W0706 00:32:21.270540 140426626672512 util.py:61] Lossy conversion from float64 to uint8. Range [0, 1]. Convert image to uint8 prior to saving to suppress this warning.\n",
            "W0706 00:32:21.281357 140426626672512 util.py:61] Lossy conversion from float64 to uint8. Range [0, 1]. Convert image to uint8 prior to saving to suppress this warning.\n",
            "W0706 00:32:21.290753 140426626672512 util.py:61] Lossy conversion from float64 to uint8. Range [0, 1]. Convert image to uint8 prior to saving to suppress this warning.\n",
            "W0706 00:32:21.299140 140426626672512 util.py:61] Lossy conversion from float64 to uint8. Range [0, 1]. Convert image to uint8 prior to saving to suppress this warning.\n",
            "W0706 00:32:21.308221 140426626672512 util.py:61] Lossy conversion from float64 to uint8. Range [0, 1]. Convert image to uint8 prior to saving to suppress this warning.\n",
            "W0706 00:32:21.316605 140426626672512 util.py:61] Lossy conversion from float64 to uint8. Range [0, 1]. Convert image to uint8 prior to saving to suppress this warning.\n"
          ],
          "name": "stderr"
        }
      ]
    },
    {
      "cell_type": "markdown",
      "metadata": {
        "id": "TBOUxxXMs7Jz",
        "colab_type": "text"
      },
      "source": [
        "#CNN"
      ]
    },
    {
      "cell_type": "code",
      "metadata": {
        "id": "XB33qwi_siA_",
        "colab_type": "code",
        "outputId": "b1d5a66f-64c3-4924-bccf-cb41b40d8373",
        "colab": {
          "base_uri": "https://localhost:8080/",
          "height": 310
        }
      },
      "source": [
        "from keras.models import Sequential\n",
        "from keras.layers import Conv2D\n",
        "from keras.layers import MaxPooling2D\n",
        "from keras.layers import Flatten\n",
        "from keras.layers import Dense\n",
        "\n",
        "# Initialising the CNN\n",
        "classifier = Sequential()\n",
        "\n",
        "\n",
        "classifier.add(Conv2D(32, (3, 3), input_shape = (64, 64, 3), activation = 'relu'))\n",
        "classifier.add(MaxPooling2D(pool_size = (2, 2)))\n",
        "\n",
        "# Adding a second convolutional layer\n",
        "classifier.add(Conv2D(32, (3, 3), activation = 'relu'))\n",
        "classifier.add(MaxPooling2D(pool_size = (2, 2)))\n",
        "\n",
        "\n",
        "classifier.add(Flatten())\n",
        "classifier.add(Dense(units = 128, activation = 'relu'))\n",
        "classifier.add(Dense(units = 1, activation = 'sigmoid'))\n",
        "\n",
        "# Compiling the CNN\n",
        "classifier.compile(optimizer = 'adam', loss = 'binary_crossentropy', metrics = ['accuracy'])"
      ],
      "execution_count": 0,
      "outputs": [
        {
          "output_type": "stream",
          "text": [
            "W0706 00:34:14.705422 140426626672512 deprecation_wrapper.py:119] From /usr/local/lib/python3.6/dist-packages/keras/backend/tensorflow_backend.py:74: The name tf.get_default_graph is deprecated. Please use tf.compat.v1.get_default_graph instead.\n",
            "\n",
            "W0706 00:34:14.746931 140426626672512 deprecation_wrapper.py:119] From /usr/local/lib/python3.6/dist-packages/keras/backend/tensorflow_backend.py:517: The name tf.placeholder is deprecated. Please use tf.compat.v1.placeholder instead.\n",
            "\n",
            "W0706 00:34:14.757400 140426626672512 deprecation_wrapper.py:119] From /usr/local/lib/python3.6/dist-packages/keras/backend/tensorflow_backend.py:4138: The name tf.random_uniform is deprecated. Please use tf.random.uniform instead.\n",
            "\n",
            "W0706 00:34:14.807051 140426626672512 deprecation_wrapper.py:119] From /usr/local/lib/python3.6/dist-packages/keras/backend/tensorflow_backend.py:3976: The name tf.nn.max_pool is deprecated. Please use tf.nn.max_pool2d instead.\n",
            "\n",
            "W0706 00:34:14.862536 140426626672512 deprecation_wrapper.py:119] From /usr/local/lib/python3.6/dist-packages/keras/optimizers.py:790: The name tf.train.Optimizer is deprecated. Please use tf.compat.v1.train.Optimizer instead.\n",
            "\n",
            "W0706 00:34:14.885227 140426626672512 deprecation_wrapper.py:119] From /usr/local/lib/python3.6/dist-packages/keras/backend/tensorflow_backend.py:3376: The name tf.log is deprecated. Please use tf.math.log instead.\n",
            "\n",
            "W0706 00:34:14.892062 140426626672512 deprecation.py:323] From /usr/local/lib/python3.6/dist-packages/tensorflow/python/ops/nn_impl.py:180: add_dispatch_support.<locals>.wrapper (from tensorflow.python.ops.array_ops) is deprecated and will be removed in a future version.\n",
            "Instructions for updating:\n",
            "Use tf.where in 2.0, which has the same broadcast rule as np.where\n"
          ],
          "name": "stderr"
        }
      ]
    },
    {
      "cell_type": "code",
      "metadata": {
        "id": "g0RkqrzwtB4B",
        "colab_type": "code",
        "outputId": "12f56a1e-a8d0-43ec-97f3-d342a83f0ae9",
        "colab": {
          "base_uri": "https://localhost:8080/",
          "height": 292
        }
      },
      "source": [
        "from keras.preprocessing.image import ImageDataGenerator\n",
        "\n",
        "train_datagen = ImageDataGenerator(rescale = 1./255,\n",
        "                                   shear_range = 0.2,\n",
        "                                   zoom_range = 0.2,\n",
        "                                   horizontal_flip = True)\n",
        "\n",
        "test_datagen = ImageDataGenerator(rescale = 1./255)\n",
        "\n",
        "training_set = train_datagen.flow_from_directory('dataset/',\n",
        "                                                 target_size = (64, 64),\n",
        "                                                 batch_size = 32,\n",
        "                                                 class_mode = 'binary')\n",
        "\n",
        "classifier.fit_generator(training_set,\n",
        "                         steps_per_epoch = 500,\n",
        "                         epochs = 5)"
      ],
      "execution_count": 0,
      "outputs": [
        {
          "output_type": "stream",
          "text": [
            "Found 126 images belonging to 2 classes.\n"
          ],
          "name": "stdout"
        },
        {
          "output_type": "stream",
          "text": [
            "W0706 00:36:03.781092 140426626672512 deprecation_wrapper.py:119] From /usr/local/lib/python3.6/dist-packages/keras/backend/tensorflow_backend.py:986: The name tf.assign_add is deprecated. Please use tf.compat.v1.assign_add instead.\n",
            "\n"
          ],
          "name": "stderr"
        },
        {
          "output_type": "stream",
          "text": [
            "Epoch 1/5\n",
            "500/500 [==============================] - 98s 197ms/step - loss: 0.0148 - acc: 0.9937\n",
            "Epoch 2/5\n",
            "500/500 [==============================] - 98s 197ms/step - loss: 9.8727e-05 - acc: 1.0000\n",
            "Epoch 3/5\n",
            "500/500 [==============================] - 98s 195ms/step - loss: 1.8539e-05 - acc: 1.0000\n",
            "Epoch 4/5\n",
            "500/500 [==============================] - 99s 197ms/step - loss: 7.1876e-06 - acc: 1.0000\n",
            "Epoch 5/5\n",
            "500/500 [==============================] - 98s 197ms/step - loss: 1.0955e-05 - acc: 1.0000\n"
          ],
          "name": "stdout"
        },
        {
          "output_type": "execute_result",
          "data": {
            "text/plain": [
              "<keras.callbacks.History at 0x7fb75b63f240>"
            ]
          },
          "metadata": {
            "tags": []
          },
          "execution_count": 17
        }
      ]
    },
    {
      "cell_type": "code",
      "metadata": {
        "id": "fOpnVXx2tZK_",
        "colab_type": "code",
        "outputId": "de8f6a24-3446-4dfd-f8bd-56a0898f741b",
        "colab": {
          "base_uri": "https://localhost:8080/",
          "height": 963
        }
      },
      "source": [
        "\n",
        "import numpy as np\n",
        "from keras.preprocessing import image\n",
        "import matplotlib.pyplot as plt\n",
        "\n",
        "for img in os.listdir('testset/'):\n",
        "  test_image = image.load_img('testset/'+img, target_size = (64, 64))\n",
        "  test_image = image.img_to_array(test_image)\n",
        "\n",
        "\n",
        "  test_image = np.expand_dims(test_image, axis = 0)\n",
        "  result = classifier.predict(test_image)\n",
        "  training_set.class_indices\n",
        "  #plt.imshow(test_image)\n",
        "  #plt.show()\n",
        "  if result[0][0] == 1:\n",
        "      prediction = 'Times New Roman'\n",
        "  else:\n",
        "      prediction = 'Cooper Black'\n",
        "\n",
        "  print(img,prediction)\n"
      ],
      "execution_count": 0,
      "outputs": [
        {
          "output_type": "stream",
          "text": [
            "testnew_0_0.png Times New Roman\n",
            "testnew_0_1.png Times New Roman\n",
            "testnew_0_2.png Times New Roman\n",
            "testnew_0_3.png Times New Roman\n",
            "testnew_0_4.png Times New Roman\n",
            "testnew_0_5.png Times New Roman\n",
            "testnew_0_6.png Times New Roman\n",
            "testnew_0_7.png Times New Roman\n",
            "testnew_0_8.png Times New Roman\n",
            "testnew_0_9.png Times New Roman\n",
            "testnew_0_10.png Times New Roman\n",
            "testnew_0_11.png Times New Roman\n",
            "testnew_0_12.png Times New Roman\n",
            "testnew_0_13.png Times New Roman\n",
            "testnew_0_14.png Times New Roman\n",
            "testnew_0_15.png Times New Roman\n",
            "testnew_0_16.png Times New Roman\n",
            "testnew_0_17.png Times New Roman\n",
            "testnew_0_18.png Times New Roman\n",
            "testnew_0_19.png Times New Roman\n",
            "testnew_0_20.png Times New Roman\n",
            "testnew_0_21.png Times New Roman\n",
            "testnew_0_22.png Times New Roman\n",
            "testnew_0_23.png Times New Roman\n",
            "testnew_0_24.png Times New Roman\n",
            "testnew_0_25.png Times New Roman\n",
            "testnew_1_0.png Cooper Black\n",
            "testnew_1_1.png Cooper Black\n",
            "testnew_1_2.png Cooper Black\n",
            "testnew_1_3.png Cooper Black\n",
            "testnew_1_4.png Cooper Black\n",
            "testnew_1_5.png Cooper Black\n",
            "testnew_1_6.png Cooper Black\n",
            "testnew_1_7.png Cooper Black\n",
            "testnew_1_8.png Cooper Black\n",
            "testnew_1_9.png Cooper Black\n",
            "testnew_1_10.png Cooper Black\n",
            "testnew_1_11.png Cooper Black\n",
            "testnew_1_12.png Cooper Black\n",
            "testnew_1_13.png Cooper Black\n",
            "testnew_1_14.png Cooper Black\n",
            "testnew_1_15.png Cooper Black\n",
            "testnew_1_16.png Cooper Black\n",
            "testnew_1_17.png Cooper Black\n",
            "testnew_1_18.png Cooper Black\n",
            "testnew_1_19.png Cooper Black\n",
            "testnew_1_20.png Cooper Black\n",
            "testnew_1_21.png Cooper Black\n",
            "testnew_1_22.png Cooper Black\n",
            "testnew_1_23.png Cooper Black\n",
            "testnew_1_24.png Cooper Black\n",
            "testnew_1_25.png Cooper Black\n"
          ],
          "name": "stdout"
        }
      ]
    },
    {
      "cell_type": "code",
      "metadata": {
        "id": "cs_FyMAzv2VG",
        "colab_type": "code",
        "colab": {}
      },
      "source": [
        ""
      ],
      "execution_count": 0,
      "outputs": []
    }
  ]
}